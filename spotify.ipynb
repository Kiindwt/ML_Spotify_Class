{
 "cells": [
  {
   "attachments": {},
   "cell_type": "markdown",
   "metadata": {},
   "source": [
    "<h3>1. Importing Libraries 📚</h3>"
   ]
  },
  {
   "cell_type": "code",
   "execution_count": 1,
   "metadata": {},
   "outputs": [],
   "source": [
    "import numpy as np\n",
    "import pandas as pd\n",
    "import matplotlib.pyplot as plt\n",
    "import seaborn as sns\n",
    "import warnings\n",
    "warnings.filterwarnings(\"ignore\")\n",
    "sns.set()\n",
    "\n",
    "%matplotlib inline"
   ]
  },
  {
   "attachments": {},
   "cell_type": "markdown",
   "metadata": {},
   "source": [
    "<h3>2. Reading Dataset 👀</h3>"
   ]
  },
  {
   "cell_type": "code",
   "execution_count": 2,
   "metadata": {},
   "outputs": [
    {
     "data": {
      "text/html": [
       "<div>\n",
       "<style scoped>\n",
       "    .dataframe tbody tr th:only-of-type {\n",
       "        vertical-align: middle;\n",
       "    }\n",
       "\n",
       "    .dataframe tbody tr th {\n",
       "        vertical-align: top;\n",
       "    }\n",
       "\n",
       "    .dataframe thead th {\n",
       "        text-align: right;\n",
       "    }\n",
       "</style>\n",
       "<table border=\"1\" class=\"dataframe\">\n",
       "  <thead>\n",
       "    <tr style=\"text-align: right;\">\n",
       "      <th></th>\n",
       "      <th>track_id</th>\n",
       "      <th>artists</th>\n",
       "      <th>album_name</th>\n",
       "      <th>track_name</th>\n",
       "      <th>popularity</th>\n",
       "      <th>duration_ms</th>\n",
       "      <th>explicit</th>\n",
       "      <th>danceability</th>\n",
       "      <th>energy</th>\n",
       "      <th>key</th>\n",
       "      <th>loudness</th>\n",
       "      <th>mode</th>\n",
       "      <th>speechiness</th>\n",
       "      <th>acousticness</th>\n",
       "      <th>instrumentalness</th>\n",
       "      <th>liveness</th>\n",
       "      <th>valence</th>\n",
       "      <th>tempo</th>\n",
       "      <th>time_signature</th>\n",
       "      <th>track_genre</th>\n",
       "    </tr>\n",
       "  </thead>\n",
       "  <tbody>\n",
       "    <tr>\n",
       "      <th>0</th>\n",
       "      <td>5SuOikwiRyPMVoIQDJUgSV</td>\n",
       "      <td>Gen Hoshino</td>\n",
       "      <td>Comedy</td>\n",
       "      <td>Comedy</td>\n",
       "      <td>73</td>\n",
       "      <td>230666</td>\n",
       "      <td>False</td>\n",
       "      <td>0.676</td>\n",
       "      <td>0.4610</td>\n",
       "      <td>1</td>\n",
       "      <td>-6.746</td>\n",
       "      <td>0</td>\n",
       "      <td>0.1430</td>\n",
       "      <td>0.0322</td>\n",
       "      <td>0.000001</td>\n",
       "      <td>0.3580</td>\n",
       "      <td>0.715</td>\n",
       "      <td>87.917</td>\n",
       "      <td>4</td>\n",
       "      <td>acoustic</td>\n",
       "    </tr>\n",
       "    <tr>\n",
       "      <th>1</th>\n",
       "      <td>4qPNDBW1i3p13qLCt0Ki3A</td>\n",
       "      <td>Ben Woodward</td>\n",
       "      <td>Ghost (Acoustic)</td>\n",
       "      <td>Ghost - Acoustic</td>\n",
       "      <td>55</td>\n",
       "      <td>149610</td>\n",
       "      <td>False</td>\n",
       "      <td>0.420</td>\n",
       "      <td>0.1660</td>\n",
       "      <td>1</td>\n",
       "      <td>-17.235</td>\n",
       "      <td>1</td>\n",
       "      <td>0.0763</td>\n",
       "      <td>0.9240</td>\n",
       "      <td>0.000006</td>\n",
       "      <td>0.1010</td>\n",
       "      <td>0.267</td>\n",
       "      <td>77.489</td>\n",
       "      <td>4</td>\n",
       "      <td>acoustic</td>\n",
       "    </tr>\n",
       "    <tr>\n",
       "      <th>2</th>\n",
       "      <td>1iJBSr7s7jYXzM8EGcbK5b</td>\n",
       "      <td>Ingrid Michaelson;ZAYN</td>\n",
       "      <td>To Begin Again</td>\n",
       "      <td>To Begin Again</td>\n",
       "      <td>57</td>\n",
       "      <td>210826</td>\n",
       "      <td>False</td>\n",
       "      <td>0.438</td>\n",
       "      <td>0.3590</td>\n",
       "      <td>0</td>\n",
       "      <td>-9.734</td>\n",
       "      <td>1</td>\n",
       "      <td>0.0557</td>\n",
       "      <td>0.2100</td>\n",
       "      <td>0.000000</td>\n",
       "      <td>0.1170</td>\n",
       "      <td>0.120</td>\n",
       "      <td>76.332</td>\n",
       "      <td>4</td>\n",
       "      <td>acoustic</td>\n",
       "    </tr>\n",
       "    <tr>\n",
       "      <th>3</th>\n",
       "      <td>6lfxq3CG4xtTiEg7opyCyx</td>\n",
       "      <td>Kina Grannis</td>\n",
       "      <td>Crazy Rich Asians (Original Motion Picture Sou...</td>\n",
       "      <td>Can't Help Falling In Love</td>\n",
       "      <td>71</td>\n",
       "      <td>201933</td>\n",
       "      <td>False</td>\n",
       "      <td>0.266</td>\n",
       "      <td>0.0596</td>\n",
       "      <td>0</td>\n",
       "      <td>-18.515</td>\n",
       "      <td>1</td>\n",
       "      <td>0.0363</td>\n",
       "      <td>0.9050</td>\n",
       "      <td>0.000071</td>\n",
       "      <td>0.1320</td>\n",
       "      <td>0.143</td>\n",
       "      <td>181.740</td>\n",
       "      <td>3</td>\n",
       "      <td>acoustic</td>\n",
       "    </tr>\n",
       "    <tr>\n",
       "      <th>4</th>\n",
       "      <td>5vjLSffimiIP26QG5WcN2K</td>\n",
       "      <td>Chord Overstreet</td>\n",
       "      <td>Hold On</td>\n",
       "      <td>Hold On</td>\n",
       "      <td>82</td>\n",
       "      <td>198853</td>\n",
       "      <td>False</td>\n",
       "      <td>0.618</td>\n",
       "      <td>0.4430</td>\n",
       "      <td>2</td>\n",
       "      <td>-9.681</td>\n",
       "      <td>1</td>\n",
       "      <td>0.0526</td>\n",
       "      <td>0.4690</td>\n",
       "      <td>0.000000</td>\n",
       "      <td>0.0829</td>\n",
       "      <td>0.167</td>\n",
       "      <td>119.949</td>\n",
       "      <td>4</td>\n",
       "      <td>acoustic</td>\n",
       "    </tr>\n",
       "  </tbody>\n",
       "</table>\n",
       "</div>"
      ],
      "text/plain": [
       "                 track_id                 artists  \\\n",
       "0  5SuOikwiRyPMVoIQDJUgSV             Gen Hoshino   \n",
       "1  4qPNDBW1i3p13qLCt0Ki3A            Ben Woodward   \n",
       "2  1iJBSr7s7jYXzM8EGcbK5b  Ingrid Michaelson;ZAYN   \n",
       "3  6lfxq3CG4xtTiEg7opyCyx            Kina Grannis   \n",
       "4  5vjLSffimiIP26QG5WcN2K        Chord Overstreet   \n",
       "\n",
       "                                          album_name  \\\n",
       "0                                             Comedy   \n",
       "1                                   Ghost (Acoustic)   \n",
       "2                                     To Begin Again   \n",
       "3  Crazy Rich Asians (Original Motion Picture Sou...   \n",
       "4                                            Hold On   \n",
       "\n",
       "                   track_name  popularity  duration_ms  explicit  \\\n",
       "0                      Comedy          73       230666     False   \n",
       "1            Ghost - Acoustic          55       149610     False   \n",
       "2              To Begin Again          57       210826     False   \n",
       "3  Can't Help Falling In Love          71       201933     False   \n",
       "4                     Hold On          82       198853     False   \n",
       "\n",
       "   danceability  energy  key  loudness  mode  speechiness  acousticness  \\\n",
       "0         0.676  0.4610    1    -6.746     0       0.1430        0.0322   \n",
       "1         0.420  0.1660    1   -17.235     1       0.0763        0.9240   \n",
       "2         0.438  0.3590    0    -9.734     1       0.0557        0.2100   \n",
       "3         0.266  0.0596    0   -18.515     1       0.0363        0.9050   \n",
       "4         0.618  0.4430    2    -9.681     1       0.0526        0.4690   \n",
       "\n",
       "   instrumentalness  liveness  valence    tempo  time_signature track_genre  \n",
       "0          0.000001    0.3580    0.715   87.917               4    acoustic  \n",
       "1          0.000006    0.1010    0.267   77.489               4    acoustic  \n",
       "2          0.000000    0.1170    0.120   76.332               4    acoustic  \n",
       "3          0.000071    0.1320    0.143  181.740               3    acoustic  \n",
       "4          0.000000    0.0829    0.167  119.949               4    acoustic  "
      ]
     },
     "execution_count": 2,
     "metadata": {},
     "output_type": "execute_result"
    }
   ],
   "source": [
    "spotify = pd.read_csv('dataset.csv', index_col=0)\n",
    "spotify.head()"
   ]
  },
  {
   "attachments": {},
   "cell_type": "markdown",
   "metadata": {},
   "source": [
    "<h3>3. Checking Missing Values 🚫</h3>"
   ]
  },
  {
   "cell_type": "code",
   "execution_count": 3,
   "metadata": {},
   "outputs": [
    {
     "data": {
      "text/plain": [
       "album_name          1\n",
       "track_name          1\n",
       "artists             1\n",
       "track_id            0\n",
       "speechiness         0\n",
       "time_signature      0\n",
       "tempo               0\n",
       "valence             0\n",
       "liveness            0\n",
       "instrumentalness    0\n",
       "acousticness        0\n",
       "loudness            0\n",
       "mode                0\n",
       "key                 0\n",
       "energy              0\n",
       "danceability        0\n",
       "explicit            0\n",
       "duration_ms         0\n",
       "popularity          0\n",
       "track_genre         0\n",
       "dtype: int64"
      ]
     },
     "execution_count": 3,
     "metadata": {},
     "output_type": "execute_result"
    }
   ],
   "source": [
    "spotify.isna().sum().sort_values(ascending=False)"
   ]
  },
  {
   "attachments": {},
   "cell_type": "markdown",
   "metadata": {},
   "source": [
    "<h3>4. Data Preprocessing 🛠</h3>"
   ]
  },
  {
   "cell_type": "code",
   "execution_count": 4,
   "metadata": {},
   "outputs": [
    {
     "name": "stdout",
     "output_type": "stream",
     "text": [
      "<class 'pandas.core.frame.DataFrame'>\n",
      "Int64Index: 114000 entries, 0 to 113999\n",
      "Data columns (total 20 columns):\n",
      " #   Column            Non-Null Count   Dtype  \n",
      "---  ------            --------------   -----  \n",
      " 0   track_id          114000 non-null  object \n",
      " 1   artists           113999 non-null  object \n",
      " 2   album_name        113999 non-null  object \n",
      " 3   track_name        113999 non-null  object \n",
      " 4   popularity        114000 non-null  int64  \n",
      " 5   duration_ms       114000 non-null  int64  \n",
      " 6   explicit          114000 non-null  bool   \n",
      " 7   danceability      114000 non-null  float64\n",
      " 8   energy            114000 non-null  float64\n",
      " 9   key               114000 non-null  int64  \n",
      " 10  loudness          114000 non-null  float64\n",
      " 11  mode              114000 non-null  int64  \n",
      " 12  speechiness       114000 non-null  float64\n",
      " 13  acousticness      114000 non-null  float64\n",
      " 14  instrumentalness  114000 non-null  float64\n",
      " 15  liveness          114000 non-null  float64\n",
      " 16  valence           114000 non-null  float64\n",
      " 17  tempo             114000 non-null  float64\n",
      " 18  time_signature    114000 non-null  int64  \n",
      " 19  track_genre       114000 non-null  object \n",
      "dtypes: bool(1), float64(9), int64(5), object(5)\n",
      "memory usage: 17.5+ MB\n"
     ]
    }
   ],
   "source": [
    "spotify.info()"
   ]
  },
  {
   "cell_type": "code",
   "execution_count": 5,
   "metadata": {},
   "outputs": [
    {
     "data": {
      "text/html": [
       "<div>\n",
       "<style scoped>\n",
       "    .dataframe tbody tr th:only-of-type {\n",
       "        vertical-align: middle;\n",
       "    }\n",
       "\n",
       "    .dataframe tbody tr th {\n",
       "        vertical-align: top;\n",
       "    }\n",
       "\n",
       "    .dataframe thead th {\n",
       "        text-align: right;\n",
       "    }\n",
       "</style>\n",
       "<table border=\"1\" class=\"dataframe\">\n",
       "  <thead>\n",
       "    <tr style=\"text-align: right;\">\n",
       "      <th></th>\n",
       "      <th>count</th>\n",
       "      <th>mean</th>\n",
       "      <th>std</th>\n",
       "      <th>min</th>\n",
       "      <th>10%</th>\n",
       "      <th>50%</th>\n",
       "      <th>90%</th>\n",
       "      <th>max</th>\n",
       "    </tr>\n",
       "  </thead>\n",
       "  <tbody>\n",
       "    <tr>\n",
       "      <th>popularity</th>\n",
       "      <td>114000.0</td>\n",
       "      <td>33.238535</td>\n",
       "      <td>22.305078</td>\n",
       "      <td>0.000</td>\n",
       "      <td>0.000000</td>\n",
       "      <td>35.000000</td>\n",
       "      <td>63.0000</td>\n",
       "      <td>100.000</td>\n",
       "    </tr>\n",
       "    <tr>\n",
       "      <th>duration_ms</th>\n",
       "      <td>114000.0</td>\n",
       "      <td>228029.153114</td>\n",
       "      <td>107297.712645</td>\n",
       "      <td>0.000</td>\n",
       "      <td>140080.000000</td>\n",
       "      <td>212906.000000</td>\n",
       "      <td>327773.0000</td>\n",
       "      <td>5237295.000</td>\n",
       "    </tr>\n",
       "    <tr>\n",
       "      <th>danceability</th>\n",
       "      <td>114000.0</td>\n",
       "      <td>0.566800</td>\n",
       "      <td>0.173542</td>\n",
       "      <td>0.000</td>\n",
       "      <td>0.328000</td>\n",
       "      <td>0.580000</td>\n",
       "      <td>0.7840</td>\n",
       "      <td>0.985</td>\n",
       "    </tr>\n",
       "    <tr>\n",
       "      <th>energy</th>\n",
       "      <td>114000.0</td>\n",
       "      <td>0.641383</td>\n",
       "      <td>0.251529</td>\n",
       "      <td>0.000</td>\n",
       "      <td>0.267000</td>\n",
       "      <td>0.685000</td>\n",
       "      <td>0.9410</td>\n",
       "      <td>1.000</td>\n",
       "    </tr>\n",
       "    <tr>\n",
       "      <th>key</th>\n",
       "      <td>114000.0</td>\n",
       "      <td>5.309140</td>\n",
       "      <td>3.559987</td>\n",
       "      <td>0.000</td>\n",
       "      <td>0.000000</td>\n",
       "      <td>5.000000</td>\n",
       "      <td>10.0000</td>\n",
       "      <td>11.000</td>\n",
       "    </tr>\n",
       "    <tr>\n",
       "      <th>loudness</th>\n",
       "      <td>114000.0</td>\n",
       "      <td>-8.258960</td>\n",
       "      <td>5.029337</td>\n",
       "      <td>-49.531</td>\n",
       "      <td>-14.168100</td>\n",
       "      <td>-7.004000</td>\n",
       "      <td>-3.6790</td>\n",
       "      <td>4.532</td>\n",
       "    </tr>\n",
       "    <tr>\n",
       "      <th>mode</th>\n",
       "      <td>114000.0</td>\n",
       "      <td>0.637553</td>\n",
       "      <td>0.480709</td>\n",
       "      <td>0.000</td>\n",
       "      <td>0.000000</td>\n",
       "      <td>1.000000</td>\n",
       "      <td>1.0000</td>\n",
       "      <td>1.000</td>\n",
       "    </tr>\n",
       "    <tr>\n",
       "      <th>speechiness</th>\n",
       "      <td>114000.0</td>\n",
       "      <td>0.084652</td>\n",
       "      <td>0.105732</td>\n",
       "      <td>0.000</td>\n",
       "      <td>0.030300</td>\n",
       "      <td>0.048900</td>\n",
       "      <td>0.1760</td>\n",
       "      <td>0.965</td>\n",
       "    </tr>\n",
       "    <tr>\n",
       "      <th>acousticness</th>\n",
       "      <td>114000.0</td>\n",
       "      <td>0.314910</td>\n",
       "      <td>0.332523</td>\n",
       "      <td>0.000</td>\n",
       "      <td>0.000948</td>\n",
       "      <td>0.169000</td>\n",
       "      <td>0.8670</td>\n",
       "      <td>0.996</td>\n",
       "    </tr>\n",
       "    <tr>\n",
       "      <th>instrumentalness</th>\n",
       "      <td>114000.0</td>\n",
       "      <td>0.156050</td>\n",
       "      <td>0.309555</td>\n",
       "      <td>0.000</td>\n",
       "      <td>0.000000</td>\n",
       "      <td>0.000042</td>\n",
       "      <td>0.8330</td>\n",
       "      <td>1.000</td>\n",
       "    </tr>\n",
       "    <tr>\n",
       "      <th>liveness</th>\n",
       "      <td>114000.0</td>\n",
       "      <td>0.213553</td>\n",
       "      <td>0.190378</td>\n",
       "      <td>0.000</td>\n",
       "      <td>0.074400</td>\n",
       "      <td>0.132000</td>\n",
       "      <td>0.4270</td>\n",
       "      <td>1.000</td>\n",
       "    </tr>\n",
       "    <tr>\n",
       "      <th>valence</th>\n",
       "      <td>114000.0</td>\n",
       "      <td>0.474068</td>\n",
       "      <td>0.259261</td>\n",
       "      <td>0.000</td>\n",
       "      <td>0.127000</td>\n",
       "      <td>0.464000</td>\n",
       "      <td>0.8400</td>\n",
       "      <td>0.995</td>\n",
       "    </tr>\n",
       "    <tr>\n",
       "      <th>tempo</th>\n",
       "      <td>114000.0</td>\n",
       "      <td>122.147837</td>\n",
       "      <td>29.978197</td>\n",
       "      <td>0.000</td>\n",
       "      <td>83.929900</td>\n",
       "      <td>122.017000</td>\n",
       "      <td>166.1191</td>\n",
       "      <td>243.372</td>\n",
       "    </tr>\n",
       "    <tr>\n",
       "      <th>time_signature</th>\n",
       "      <td>114000.0</td>\n",
       "      <td>3.904035</td>\n",
       "      <td>0.432621</td>\n",
       "      <td>0.000</td>\n",
       "      <td>4.000000</td>\n",
       "      <td>4.000000</td>\n",
       "      <td>4.0000</td>\n",
       "      <td>5.000</td>\n",
       "    </tr>\n",
       "  </tbody>\n",
       "</table>\n",
       "</div>"
      ],
      "text/plain": [
       "                     count           mean            std     min  \\\n",
       "popularity        114000.0      33.238535      22.305078   0.000   \n",
       "duration_ms       114000.0  228029.153114  107297.712645   0.000   \n",
       "danceability      114000.0       0.566800       0.173542   0.000   \n",
       "energy            114000.0       0.641383       0.251529   0.000   \n",
       "key               114000.0       5.309140       3.559987   0.000   \n",
       "loudness          114000.0      -8.258960       5.029337 -49.531   \n",
       "mode              114000.0       0.637553       0.480709   0.000   \n",
       "speechiness       114000.0       0.084652       0.105732   0.000   \n",
       "acousticness      114000.0       0.314910       0.332523   0.000   \n",
       "instrumentalness  114000.0       0.156050       0.309555   0.000   \n",
       "liveness          114000.0       0.213553       0.190378   0.000   \n",
       "valence           114000.0       0.474068       0.259261   0.000   \n",
       "tempo             114000.0     122.147837      29.978197   0.000   \n",
       "time_signature    114000.0       3.904035       0.432621   0.000   \n",
       "\n",
       "                            10%            50%          90%          max  \n",
       "popularity             0.000000      35.000000      63.0000      100.000  \n",
       "duration_ms       140080.000000  212906.000000  327773.0000  5237295.000  \n",
       "danceability           0.328000       0.580000       0.7840        0.985  \n",
       "energy                 0.267000       0.685000       0.9410        1.000  \n",
       "key                    0.000000       5.000000      10.0000       11.000  \n",
       "loudness             -14.168100      -7.004000      -3.6790        4.532  \n",
       "mode                   0.000000       1.000000       1.0000        1.000  \n",
       "speechiness            0.030300       0.048900       0.1760        0.965  \n",
       "acousticness           0.000948       0.169000       0.8670        0.996  \n",
       "instrumentalness       0.000000       0.000042       0.8330        1.000  \n",
       "liveness               0.074400       0.132000       0.4270        1.000  \n",
       "valence                0.127000       0.464000       0.8400        0.995  \n",
       "tempo                 83.929900     122.017000     166.1191      243.372  \n",
       "time_signature         4.000000       4.000000       4.0000        5.000  "
      ]
     },
     "execution_count": 5,
     "metadata": {},
     "output_type": "execute_result"
    }
   ],
   "source": [
    "spotify.describe(percentiles=[0.1,0.9]).T"
   ]
  },
  {
   "cell_type": "code",
   "execution_count": 6,
   "metadata": {},
   "outputs": [
    {
     "data": {
      "text/plain": [
       "(114000, 20)"
      ]
     },
     "execution_count": 6,
     "metadata": {},
     "output_type": "execute_result"
    }
   ],
   "source": [
    "spotify.shape  "
   ]
  },
  {
   "cell_type": "code",
   "execution_count": 7,
   "metadata": {},
   "outputs": [
    {
     "data": {
      "text/plain": [
       "(113550, 20)"
      ]
     },
     "execution_count": 7,
     "metadata": {},
     "output_type": "execute_result"
    }
   ],
   "source": [
    "spotify = spotify.drop_duplicates()\n",
    "spotify.shape"
   ]
  },
  {
   "cell_type": "code",
   "execution_count": 8,
   "metadata": {},
   "outputs": [
    {
     "data": {
      "text/plain": [
       "Index(['track_id', 'artists', 'album_name', 'track_name', 'track_genre'], dtype='object')"
      ]
     },
     "execution_count": 8,
     "metadata": {},
     "output_type": "execute_result"
    }
   ],
   "source": [
    "cat_col = spotify.select_dtypes(include='object').columns\n",
    "cat_col"
   ]
  },
  {
   "cell_type": "code",
   "execution_count": 9,
   "metadata": {},
   "outputs": [
    {
     "name": "stdout",
     "output_type": "stream",
     "text": [
      "(113550, 15)\n"
     ]
    }
   ],
   "source": [
    "spotify.drop(cat_col, axis=1, inplace=True) \n",
    "print(spotify.shape)"
   ]
  },
  {
   "cell_type": "code",
   "execution_count": 10,
   "metadata": {},
   "outputs": [
    {
     "data": {
      "text/plain": [
       "popularity          0\n",
       "duration_ms         0\n",
       "explicit            0\n",
       "danceability        0\n",
       "energy              0\n",
       "key                 0\n",
       "loudness            0\n",
       "mode                0\n",
       "speechiness         0\n",
       "acousticness        0\n",
       "instrumentalness    0\n",
       "liveness            0\n",
       "valence             0\n",
       "tempo               0\n",
       "time_signature      0\n",
       "dtype: int64"
      ]
     },
     "execution_count": 10,
     "metadata": {},
     "output_type": "execute_result"
    }
   ],
   "source": [
    "spotify.isna().sum().sort_values(ascending=False)"
   ]
  },
  {
   "cell_type": "code",
   "execution_count": 11,
   "metadata": {},
   "outputs": [
    {
     "data": {
      "text/plain": [
       "0    112351\n",
       "1      1199\n",
       "Name: popularity, dtype: int64"
      ]
     },
     "execution_count": 11,
     "metadata": {},
     "output_type": "execute_result"
    }
   ],
   "source": [
    "def transform_value(x):\n",
    "    \n",
    "    for i in range(0, len(x)):\n",
    "        if x[i] >= 80:\n",
    "            return 1\n",
    "        else:\n",
    "            return 0\n",
    "    \n",
    "spotify['popularity'] = spotify[['popularity']].apply(transform_value, axis=1)\n",
    "spotify['popularity'].value_counts()"
   ]
  },
  {
   "cell_type": "code",
   "execution_count": 12,
   "metadata": {},
   "outputs": [],
   "source": [
    "spotify['target'] = spotify['popularity']\n",
    "spotify.drop('popularity', axis=1, inplace=True)"
   ]
  },
  {
   "cell_type": "code",
   "execution_count": 13,
   "metadata": {},
   "outputs": [
    {
     "data": {
      "text/plain": [
       "duration_ms         0\n",
       "explicit            0\n",
       "danceability        0\n",
       "energy              0\n",
       "key                 0\n",
       "loudness            0\n",
       "mode                0\n",
       "speechiness         0\n",
       "acousticness        0\n",
       "instrumentalness    0\n",
       "liveness            0\n",
       "valence             0\n",
       "tempo               0\n",
       "time_signature      0\n",
       "target              0\n",
       "dtype: int64"
      ]
     },
     "execution_count": 13,
     "metadata": {},
     "output_type": "execute_result"
    }
   ],
   "source": [
    "spotify.isna().sum().sort_values(ascending=False)"
   ]
  },
  {
   "cell_type": "code",
   "execution_count": 14,
   "metadata": {},
   "outputs": [
    {
     "data": {
      "text/html": [
       "<div>\n",
       "<style scoped>\n",
       "    .dataframe tbody tr th:only-of-type {\n",
       "        vertical-align: middle;\n",
       "    }\n",
       "\n",
       "    .dataframe tbody tr th {\n",
       "        vertical-align: top;\n",
       "    }\n",
       "\n",
       "    .dataframe thead th {\n",
       "        text-align: right;\n",
       "    }\n",
       "</style>\n",
       "<table border=\"1\" class=\"dataframe\">\n",
       "  <thead>\n",
       "    <tr style=\"text-align: right;\">\n",
       "      <th></th>\n",
       "      <th>duration_ms</th>\n",
       "      <th>explicit</th>\n",
       "      <th>danceability</th>\n",
       "      <th>energy</th>\n",
       "      <th>key</th>\n",
       "      <th>loudness</th>\n",
       "      <th>mode</th>\n",
       "      <th>speechiness</th>\n",
       "      <th>acousticness</th>\n",
       "      <th>instrumentalness</th>\n",
       "      <th>liveness</th>\n",
       "      <th>valence</th>\n",
       "      <th>tempo</th>\n",
       "      <th>time_signature</th>\n",
       "      <th>target</th>\n",
       "    </tr>\n",
       "  </thead>\n",
       "  <tbody>\n",
       "    <tr>\n",
       "      <th>0</th>\n",
       "      <td>0.044043</td>\n",
       "      <td>0.0</td>\n",
       "      <td>0.686294</td>\n",
       "      <td>0.4610</td>\n",
       "      <td>0.090909</td>\n",
       "      <td>0.791392</td>\n",
       "      <td>0.0</td>\n",
       "      <td>0.148187</td>\n",
       "      <td>0.032329</td>\n",
       "      <td>0.000001</td>\n",
       "      <td>0.3580</td>\n",
       "      <td>0.718593</td>\n",
       "      <td>0.361245</td>\n",
       "      <td>0.8</td>\n",
       "      <td>0.0</td>\n",
       "    </tr>\n",
       "    <tr>\n",
       "      <th>1</th>\n",
       "      <td>0.028566</td>\n",
       "      <td>0.0</td>\n",
       "      <td>0.426396</td>\n",
       "      <td>0.1660</td>\n",
       "      <td>0.090909</td>\n",
       "      <td>0.597377</td>\n",
       "      <td>1.0</td>\n",
       "      <td>0.079067</td>\n",
       "      <td>0.927711</td>\n",
       "      <td>0.000006</td>\n",
       "      <td>0.1010</td>\n",
       "      <td>0.268342</td>\n",
       "      <td>0.318397</td>\n",
       "      <td>0.8</td>\n",
       "      <td>0.0</td>\n",
       "    </tr>\n",
       "    <tr>\n",
       "      <th>2</th>\n",
       "      <td>0.040255</td>\n",
       "      <td>0.0</td>\n",
       "      <td>0.444670</td>\n",
       "      <td>0.3590</td>\n",
       "      <td>0.000000</td>\n",
       "      <td>0.736123</td>\n",
       "      <td>1.0</td>\n",
       "      <td>0.057720</td>\n",
       "      <td>0.210843</td>\n",
       "      <td>0.000000</td>\n",
       "      <td>0.1170</td>\n",
       "      <td>0.120603</td>\n",
       "      <td>0.313643</td>\n",
       "      <td>0.8</td>\n",
       "      <td>0.0</td>\n",
       "    </tr>\n",
       "    <tr>\n",
       "      <th>3</th>\n",
       "      <td>0.038557</td>\n",
       "      <td>0.0</td>\n",
       "      <td>0.270051</td>\n",
       "      <td>0.0596</td>\n",
       "      <td>0.000000</td>\n",
       "      <td>0.573701</td>\n",
       "      <td>1.0</td>\n",
       "      <td>0.037617</td>\n",
       "      <td>0.908635</td>\n",
       "      <td>0.000071</td>\n",
       "      <td>0.1320</td>\n",
       "      <td>0.143719</td>\n",
       "      <td>0.746758</td>\n",
       "      <td>0.6</td>\n",
       "      <td>0.0</td>\n",
       "    </tr>\n",
       "    <tr>\n",
       "      <th>4</th>\n",
       "      <td>0.037969</td>\n",
       "      <td>0.0</td>\n",
       "      <td>0.627411</td>\n",
       "      <td>0.4430</td>\n",
       "      <td>0.181818</td>\n",
       "      <td>0.737103</td>\n",
       "      <td>1.0</td>\n",
       "      <td>0.054508</td>\n",
       "      <td>0.470884</td>\n",
       "      <td>0.000000</td>\n",
       "      <td>0.0829</td>\n",
       "      <td>0.167839</td>\n",
       "      <td>0.492863</td>\n",
       "      <td>0.8</td>\n",
       "      <td>1.0</td>\n",
       "    </tr>\n",
       "  </tbody>\n",
       "</table>\n",
       "</div>"
      ],
      "text/plain": [
       "   duration_ms  explicit  danceability  energy       key  loudness  mode  \\\n",
       "0     0.044043       0.0      0.686294  0.4610  0.090909  0.791392   0.0   \n",
       "1     0.028566       0.0      0.426396  0.1660  0.090909  0.597377   1.0   \n",
       "2     0.040255       0.0      0.444670  0.3590  0.000000  0.736123   1.0   \n",
       "3     0.038557       0.0      0.270051  0.0596  0.000000  0.573701   1.0   \n",
       "4     0.037969       0.0      0.627411  0.4430  0.181818  0.737103   1.0   \n",
       "\n",
       "   speechiness  acousticness  instrumentalness  liveness   valence     tempo  \\\n",
       "0     0.148187      0.032329          0.000001    0.3580  0.718593  0.361245   \n",
       "1     0.079067      0.927711          0.000006    0.1010  0.268342  0.318397   \n",
       "2     0.057720      0.210843          0.000000    0.1170  0.120603  0.313643   \n",
       "3     0.037617      0.908635          0.000071    0.1320  0.143719  0.746758   \n",
       "4     0.054508      0.470884          0.000000    0.0829  0.167839  0.492863   \n",
       "\n",
       "   time_signature  target  \n",
       "0             0.8     0.0  \n",
       "1             0.8     0.0  \n",
       "2             0.8     0.0  \n",
       "3             0.6     0.0  \n",
       "4             0.8     1.0  "
      ]
     },
     "execution_count": 14,
     "metadata": {},
     "output_type": "execute_result"
    }
   ],
   "source": [
    "from sklearn.preprocessing import MinMaxScaler\n",
    "\n",
    "scaler = MinMaxScaler()\n",
    "spotify_scaled = scaler.fit_transform(spotify)\n",
    "\n",
    "spotify_scaled = pd.DataFrame(spotify_scaled, columns=spotify.columns)\n",
    "spotify_scaled.head()"
   ]
  },
  {
   "attachments": {},
   "cell_type": "markdown",
   "metadata": {},
   "source": [
    "<h3>>5. Correlation Vizualitaion 📊</h3>"
   ]
  },
  {
   "cell_type": "code",
   "execution_count": 15,
   "metadata": {},
   "outputs": [
    {
     "data": {
      "image/png": "[encoded data removed]",
      "text/plain": [
       "<Figure size 864x720 with 2 Axes>"
      ]
     },
     "metadata": {
      "needs_background": "light"
     },
     "output_type": "display_data"
    }
   ],
   "source": [
    "plt.figure(figsize=(12,10))\n",
    "sns.heatmap(spotify_scaled.corr(), annot=True, cmap='magma')\n",
    "plt.show()"
   ]
  },
  {
   "attachments": {},
   "cell_type": "markdown",
   "metadata": {},
   "source": [
    "<h3>Creating Models 🤖</h3>\n",
    "<ul>\n",
    "  <li>Classification Models 📈</li>\n",
    "    <ol>\n",
    "      <li>LogisticRegression</li>\n",
    "      <li>KNearest</li>\n",
    "      <li>DecisionTreeClassifier</li>\n",
    "      <li>Random Forest</li>\n",
    "    </ol>\n",
    "</ul>\n",
    "\n",
    "\n",
    "All classification models passed through resampling techniques used in the field of machine learning to deal with balancing classes in datasets.</p>\n",
    "\n",
    "<ul>\n",
    "  <li>Resampling Techniques 🐱‍👤</li>\n",
    "    <ol>\n",
    "      <li>Distribution - Random UnderSampling</li>\n",
    "      <li>Distribution - Random Over-Sampling</li>\n",
    "      <li>SMOTE (Synthetic Minority Over-sampling Technique)</li>\n",
    "      <li>SMOTETomek (SMOTE with Tomek Links)</li>\n",
    "    </ol>\n",
    "</ul>"
   ]
  },
  {
   "attachments": {},
   "cell_type": "markdown",
   "metadata": {},
   "source": [
    "<h2>7. Classification Models 📈</h2>\n",
    "\n",
    "Binary classification models are machine learning algorithms designed to solve problems where the classification task involves only two distinct classes.\n",
    "<br>Because of this in the pre-processing part it was defined that only values of the 'target' column >= 80 would be considered popular."
   ]
  },
  {
   "cell_type": "code",
   "execution_count": 16,
   "metadata": {},
   "outputs": [
    {
     "data": {
      "text/html": [
       "<div>\n",
       "<style scoped>\n",
       "    .dataframe tbody tr th:only-of-type {\n",
       "        vertical-align: middle;\n",
       "    }\n",
       "\n",
       "    .dataframe tbody tr th {\n",
       "        vertical-align: top;\n",
       "    }\n",
       "\n",
       "    .dataframe thead th {\n",
       "        text-align: right;\n",
       "    }\n",
       "</style>\n",
       "<table border=\"1\" class=\"dataframe\">\n",
       "  <thead>\n",
       "    <tr style=\"text-align: right;\">\n",
       "      <th></th>\n",
       "      <th>duration_ms</th>\n",
       "      <th>explicit</th>\n",
       "      <th>danceability</th>\n",
       "      <th>energy</th>\n",
       "      <th>key</th>\n",
       "      <th>loudness</th>\n",
       "      <th>mode</th>\n",
       "      <th>speechiness</th>\n",
       "      <th>acousticness</th>\n",
       "      <th>instrumentalness</th>\n",
       "      <th>liveness</th>\n",
       "      <th>valence</th>\n",
       "      <th>tempo</th>\n",
       "      <th>time_signature</th>\n",
       "      <th>target</th>\n",
       "    </tr>\n",
       "  </thead>\n",
       "  <tbody>\n",
       "    <tr>\n",
       "      <th>0</th>\n",
       "      <td>0.044043</td>\n",
       "      <td>0.0</td>\n",
       "      <td>0.686294</td>\n",
       "      <td>0.4610</td>\n",
       "      <td>0.090909</td>\n",
       "      <td>0.791392</td>\n",
       "      <td>0.0</td>\n",
       "      <td>0.148187</td>\n",
       "      <td>0.032329</td>\n",
       "      <td>0.000001</td>\n",
       "      <td>0.3580</td>\n",
       "      <td>0.718593</td>\n",
       "      <td>0.361245</td>\n",
       "      <td>0.8</td>\n",
       "      <td>0.0</td>\n",
       "    </tr>\n",
       "    <tr>\n",
       "      <th>1</th>\n",
       "      <td>0.028566</td>\n",
       "      <td>0.0</td>\n",
       "      <td>0.426396</td>\n",
       "      <td>0.1660</td>\n",
       "      <td>0.090909</td>\n",
       "      <td>0.597377</td>\n",
       "      <td>1.0</td>\n",
       "      <td>0.079067</td>\n",
       "      <td>0.927711</td>\n",
       "      <td>0.000006</td>\n",
       "      <td>0.1010</td>\n",
       "      <td>0.268342</td>\n",
       "      <td>0.318397</td>\n",
       "      <td>0.8</td>\n",
       "      <td>0.0</td>\n",
       "    </tr>\n",
       "    <tr>\n",
       "      <th>2</th>\n",
       "      <td>0.040255</td>\n",
       "      <td>0.0</td>\n",
       "      <td>0.444670</td>\n",
       "      <td>0.3590</td>\n",
       "      <td>0.000000</td>\n",
       "      <td>0.736123</td>\n",
       "      <td>1.0</td>\n",
       "      <td>0.057720</td>\n",
       "      <td>0.210843</td>\n",
       "      <td>0.000000</td>\n",
       "      <td>0.1170</td>\n",
       "      <td>0.120603</td>\n",
       "      <td>0.313643</td>\n",
       "      <td>0.8</td>\n",
       "      <td>0.0</td>\n",
       "    </tr>\n",
       "    <tr>\n",
       "      <th>3</th>\n",
       "      <td>0.038557</td>\n",
       "      <td>0.0</td>\n",
       "      <td>0.270051</td>\n",
       "      <td>0.0596</td>\n",
       "      <td>0.000000</td>\n",
       "      <td>0.573701</td>\n",
       "      <td>1.0</td>\n",
       "      <td>0.037617</td>\n",
       "      <td>0.908635</td>\n",
       "      <td>0.000071</td>\n",
       "      <td>0.1320</td>\n",
       "      <td>0.143719</td>\n",
       "      <td>0.746758</td>\n",
       "      <td>0.6</td>\n",
       "      <td>0.0</td>\n",
       "    </tr>\n",
       "    <tr>\n",
       "      <th>4</th>\n",
       "      <td>0.037969</td>\n",
       "      <td>0.0</td>\n",
       "      <td>0.627411</td>\n",
       "      <td>0.4430</td>\n",
       "      <td>0.181818</td>\n",
       "      <td>0.737103</td>\n",
       "      <td>1.0</td>\n",
       "      <td>0.054508</td>\n",
       "      <td>0.470884</td>\n",
       "      <td>0.000000</td>\n",
       "      <td>0.0829</td>\n",
       "      <td>0.167839</td>\n",
       "      <td>0.492863</td>\n",
       "      <td>0.8</td>\n",
       "      <td>1.0</td>\n",
       "    </tr>\n",
       "  </tbody>\n",
       "</table>\n",
       "</div>"
      ],
      "text/plain": [
       "   duration_ms  explicit  danceability  energy       key  loudness  mode  \\\n",
       "0     0.044043       0.0      0.686294  0.4610  0.090909  0.791392   0.0   \n",
       "1     0.028566       0.0      0.426396  0.1660  0.090909  0.597377   1.0   \n",
       "2     0.040255       0.0      0.444670  0.3590  0.000000  0.736123   1.0   \n",
       "3     0.038557       0.0      0.270051  0.0596  0.000000  0.573701   1.0   \n",
       "4     0.037969       0.0      0.627411  0.4430  0.181818  0.737103   1.0   \n",
       "\n",
       "   speechiness  acousticness  instrumentalness  liveness   valence     tempo  \\\n",
       "0     0.148187      0.032329          0.000001    0.3580  0.718593  0.361245   \n",
       "1     0.079067      0.927711          0.000006    0.1010  0.268342  0.318397   \n",
       "2     0.057720      0.210843          0.000000    0.1170  0.120603  0.313643   \n",
       "3     0.037617      0.908635          0.000071    0.1320  0.143719  0.746758   \n",
       "4     0.054508      0.470884          0.000000    0.0829  0.167839  0.492863   \n",
       "\n",
       "   time_signature  target  \n",
       "0             0.8     0.0  \n",
       "1             0.8     0.0  \n",
       "2             0.8     0.0  \n",
       "3             0.6     0.0  \n",
       "4             0.8     1.0  "
      ]
     },
     "execution_count": 16,
     "metadata": {},
     "output_type": "execute_result"
    }
   ],
   "source": [
    "spotify_scaled.head()"
   ]
  },
  {
   "cell_type": "code",
   "execution_count": 17,
   "metadata": {},
   "outputs": [],
   "source": [
    "from sklearn.model_selection import StratifiedKFold\n",
    "\n",
    "X = spotify_scaled.drop('target', axis=1)\n",
    "y = spotify_scaled['target']\n",
    "\n",
    "seed = 66\n",
    "StratifKfold = StratifiedKFold(n_splits=5, shuffle=True, random_state=seed)\n",
    "\n",
    "for train_index, test_index in StratifKfold.split(X, y):\n",
    "\n",
    "    X_train, X_test = X.iloc[train_index], X.iloc[test_index]\n",
    "    y_train, y_test = y.iloc[train_index], y.iloc[test_index]"
   ]
  },
  {
   "cell_type": "code",
   "execution_count": 18,
   "metadata": {},
   "outputs": [],
   "source": [
    "from sklearn.linear_model import LogisticRegression\n",
    "from sklearn.neighbors import KNeighborsClassifier\n",
    "from sklearn.tree import DecisionTreeClassifier\n",
    "from sklearn.ensemble import RandomForestClassifier\n",
    "\n",
    "models = {\n",
    "    \"LogisticRegression\": LogisticRegression(),\n",
    "    \"KNearest\": KNeighborsClassifier(),\n",
    "    \"DecisionTreeClassifier\": DecisionTreeClassifier(), \n",
    "    \"Random Forest\": RandomForestClassifier()\n",
    "}"
   ]
  },
  {
   "attachments": {},
   "cell_type": "markdown",
   "metadata": {},
   "source": [
    "<h3>7.0 Default</h3>"
   ]
  },
  {
   "cell_type": "code",
   "execution_count": 19,
   "metadata": {},
   "outputs": [
    {
     "data": {
      "text/html": [
       "<div>\n",
       "<style scoped>\n",
       "    .dataframe tbody tr th:only-of-type {\n",
       "        vertical-align: middle;\n",
       "    }\n",
       "\n",
       "    .dataframe tbody tr th {\n",
       "        vertical-align: top;\n",
       "    }\n",
       "\n",
       "    .dataframe thead th {\n",
       "        text-align: right;\n",
       "    }\n",
       "</style>\n",
       "<table border=\"1\" class=\"dataframe\">\n",
       "  <thead>\n",
       "    <tr style=\"text-align: right;\">\n",
       "      <th></th>\n",
       "      <th>Model</th>\n",
       "      <th>Accuracy Score</th>\n",
       "      <th>Precision Score</th>\n",
       "      <th>Recall Score</th>\n",
       "      <th>F1 Score</th>\n",
       "      <th>Details</th>\n",
       "    </tr>\n",
       "  </thead>\n",
       "  <tbody>\n",
       "    <tr>\n",
       "      <th>0</th>\n",
       "      <td>LogisticRegression</td>\n",
       "      <td>0.989432</td>\n",
       "      <td>0.000000</td>\n",
       "      <td>0.000000</td>\n",
       "      <td>0.000000</td>\n",
       "      <td>Default</td>\n",
       "    </tr>\n",
       "    <tr>\n",
       "      <th>1</th>\n",
       "      <td>KNearest</td>\n",
       "      <td>0.988595</td>\n",
       "      <td>0.385542</td>\n",
       "      <td>0.133333</td>\n",
       "      <td>0.198142</td>\n",
       "      <td>Default</td>\n",
       "    </tr>\n",
       "    <tr>\n",
       "      <th>2</th>\n",
       "      <td>DecisionTreeClassifier</td>\n",
       "      <td>0.989828</td>\n",
       "      <td>0.516014</td>\n",
       "      <td>0.604167</td>\n",
       "      <td>0.556622</td>\n",
       "      <td>Default</td>\n",
       "    </tr>\n",
       "    <tr>\n",
       "      <th>3</th>\n",
       "      <td>Random Forest</td>\n",
       "      <td>0.995421</td>\n",
       "      <td>0.941558</td>\n",
       "      <td>0.604167</td>\n",
       "      <td>0.736041</td>\n",
       "      <td>Default</td>\n",
       "    </tr>\n",
       "  </tbody>\n",
       "</table>\n",
       "</div>"
      ],
      "text/plain": [
       "                    Model  Accuracy Score  Precision Score  Recall Score  \\\n",
       "0      LogisticRegression        0.989432         0.000000      0.000000   \n",
       "1                KNearest        0.988595         0.385542      0.133333   \n",
       "2  DecisionTreeClassifier        0.989828         0.516014      0.604167   \n",
       "3           Random Forest        0.995421         0.941558      0.604167   \n",
       "\n",
       "   F1 Score  Details  \n",
       "0  0.000000  Default  \n",
       "1  0.198142  Default  \n",
       "2  0.556622  Default  \n",
       "3  0.736041  Default  "
      ]
     },
     "execution_count": 19,
     "metadata": {},
     "output_type": "execute_result"
    }
   ],
   "source": [
    "from sklearn.metrics import accuracy_score, precision_score, recall_score, f1_score\n",
    "\n",
    "sample = []\n",
    "for key, model in models.items():\n",
    "    model.fit(X_train, y_train)\n",
    "    y_pred = model.predict(X_test)\n",
    "    sample.append([key, accuracy_score(y_test, y_pred),precision_score(y_test, y_pred),recall_score(y_test, y_pred),f1_score(y_test, y_pred)])\n",
    "\n",
    "df = pd.DataFrame(sample, columns=['Model','Accuracy Score','Precision Score','Recall Score','F1 Score'])\n",
    "df['Details'] = ['Default','Default', 'Default', 'Default']\n",
    "df"
   ]
  },
  {
   "attachments": {},
   "cell_type": "markdown",
   "metadata": {},
   "source": [
    "<h3>7.1 Distribution - Random UnderSampling</h3>\n",
    "\n",
    "In this approach, a random reduction of the majority class (class with the highest number of instances) is performed to balance the distribution of classes in the data set."
   ]
  },
  {
   "cell_type": "code",
   "execution_count": 20,
   "metadata": {},
   "outputs": [
    {
     "data": {
      "text/plain": [
       "0.0    112351\n",
       "1.0      1199\n",
       "Name: target, dtype: int64"
      ]
     },
     "execution_count": 20,
     "metadata": {},
     "output_type": "execute_result"
    }
   ],
   "source": [
    "spotify_scaled['target'].value_counts() # Target variable before resampling techniques"
   ]
  },
  {
   "cell_type": "code",
   "execution_count": 21,
   "metadata": {},
   "outputs": [
    {
     "data": {
      "text/plain": [
       "0.0    959\n",
       "1.0    959\n",
       "Name: target, dtype: int64"
      ]
     },
     "execution_count": 21,
     "metadata": {},
     "output_type": "execute_result"
    }
   ],
   "source": [
    "from imblearn.under_sampling import NearMiss\n",
    "\n",
    "under = NearMiss()\n",
    "\n",
    "X_under, y_under = under.fit_resample(X_train, y_train)\n",
    "\n",
    "y_under.value_counts()"
   ]
  },
  {
   "cell_type": "code",
   "execution_count": 22,
   "metadata": {},
   "outputs": [
    {
     "data": {
      "text/html": [
       "<div>\n",
       "<style scoped>\n",
       "    .dataframe tbody tr th:only-of-type {\n",
       "        vertical-align: middle;\n",
       "    }\n",
       "\n",
       "    .dataframe tbody tr th {\n",
       "        vertical-align: top;\n",
       "    }\n",
       "\n",
       "    .dataframe thead th {\n",
       "        text-align: right;\n",
       "    }\n",
       "</style>\n",
       "<table border=\"1\" class=\"dataframe\">\n",
       "  <thead>\n",
       "    <tr style=\"text-align: right;\">\n",
       "      <th></th>\n",
       "      <th>Model</th>\n",
       "      <th>Accuracy Score</th>\n",
       "      <th>Precision Score</th>\n",
       "      <th>Recall Score</th>\n",
       "      <th>F1 Score</th>\n",
       "      <th>Details</th>\n",
       "    </tr>\n",
       "  </thead>\n",
       "  <tbody>\n",
       "    <tr>\n",
       "      <th>0</th>\n",
       "      <td>LogisticRegression</td>\n",
       "      <td>0.662148</td>\n",
       "      <td>0.691267</td>\n",
       "      <td>0.586027</td>\n",
       "      <td>0.634312</td>\n",
       "      <td>Under Sampling</td>\n",
       "    </tr>\n",
       "    <tr>\n",
       "      <th>1</th>\n",
       "      <td>KNearest</td>\n",
       "      <td>0.866528</td>\n",
       "      <td>0.915976</td>\n",
       "      <td>0.807091</td>\n",
       "      <td>0.858093</td>\n",
       "      <td>Under Sampling</td>\n",
       "    </tr>\n",
       "    <tr>\n",
       "      <th>2</th>\n",
       "      <td>DecisionTreeClassifier</td>\n",
       "      <td>0.948905</td>\n",
       "      <td>0.989761</td>\n",
       "      <td>0.907195</td>\n",
       "      <td>0.946681</td>\n",
       "      <td>Under Sampling</td>\n",
       "    </tr>\n",
       "    <tr>\n",
       "      <th>3</th>\n",
       "      <td>Random Forest</td>\n",
       "      <td>0.948905</td>\n",
       "      <td>0.978865</td>\n",
       "      <td>0.917623</td>\n",
       "      <td>0.947255</td>\n",
       "      <td>Under Sampling</td>\n",
       "    </tr>\n",
       "  </tbody>\n",
       "</table>\n",
       "</div>"
      ],
      "text/plain": [
       "                    Model  Accuracy Score  Precision Score  Recall Score  \\\n",
       "0      LogisticRegression        0.662148         0.691267      0.586027   \n",
       "1                KNearest        0.866528         0.915976      0.807091   \n",
       "2  DecisionTreeClassifier        0.948905         0.989761      0.907195   \n",
       "3           Random Forest        0.948905         0.978865      0.917623   \n",
       "\n",
       "   F1 Score         Details  \n",
       "0  0.634312  Under Sampling  \n",
       "1  0.858093  Under Sampling  \n",
       "2  0.946681  Under Sampling  \n",
       "3  0.947255  Under Sampling  "
      ]
     },
     "execution_count": 22,
     "metadata": {},
     "output_type": "execute_result"
    }
   ],
   "source": [
    "under_sample = []\n",
    "for key, model in models.items():\n",
    "    model.fit(X_under, y_under)\n",
    "    y_pred = model.predict(X_under)\n",
    "    under_sample.append([key, accuracy_score(y_under, y_pred),precision_score(y_under, y_pred),recall_score(y_under, y_pred),f1_score(y_under, y_pred)])\n",
    "\n",
    "under_df = pd.DataFrame(under_sample, columns=['Model','Accuracy Score','Precision Score','Recall Score','F1 Score'])\n",
    "under_df['Details'] = ['Under Sampling','Under Sampling','Under Sampling','Under Sampling']\n",
    "under_df"
   ]
  },
  {
   "attachments": {},
   "cell_type": "markdown",
   "metadata": {},
   "source": [
    "<h3>7.2 Distribution - Random Over-Sampling</h3>\n",
    "\n",
    "In this approach, the minority class (class with the least number of instances) is randomly augmented, creating additional copies of instances of that class."
   ]
  },
  {
   "cell_type": "code",
   "execution_count": 23,
   "metadata": {},
   "outputs": [
    {
     "data": {
      "text/plain": [
       "0.0    89881\n",
       "1.0    89881\n",
       "Name: target, dtype: int64"
      ]
     },
     "execution_count": 23,
     "metadata": {},
     "output_type": "execute_result"
    }
   ],
   "source": [
    "from imblearn.over_sampling import RandomOverSampler\n",
    "\n",
    "over = RandomOverSampler(sampling_strategy='minority')\n",
    "\n",
    "X_over, y_over = over.fit_resample(X_train, y_train)\n",
    "\n",
    "y_over.value_counts()"
   ]
  },
  {
   "cell_type": "code",
   "execution_count": 24,
   "metadata": {},
   "outputs": [
    {
     "data": {
      "text/html": [
       "<div>\n",
       "<style scoped>\n",
       "    .dataframe tbody tr th:only-of-type {\n",
       "        vertical-align: middle;\n",
       "    }\n",
       "\n",
       "    .dataframe tbody tr th {\n",
       "        vertical-align: top;\n",
       "    }\n",
       "\n",
       "    .dataframe thead th {\n",
       "        text-align: right;\n",
       "    }\n",
       "</style>\n",
       "<table border=\"1\" class=\"dataframe\">\n",
       "  <thead>\n",
       "    <tr style=\"text-align: right;\">\n",
       "      <th></th>\n",
       "      <th>Model</th>\n",
       "      <th>Accuracy Score</th>\n",
       "      <th>Precision Score</th>\n",
       "      <th>Recall Score</th>\n",
       "      <th>F1 Score</th>\n",
       "      <th>Details</th>\n",
       "    </tr>\n",
       "  </thead>\n",
       "  <tbody>\n",
       "    <tr>\n",
       "      <th>0</th>\n",
       "      <td>LogisticRegression</td>\n",
       "      <td>0.704359</td>\n",
       "      <td>0.683868</td>\n",
       "      <td>0.760083</td>\n",
       "      <td>0.719964</td>\n",
       "      <td>Over Sampling</td>\n",
       "    </tr>\n",
       "    <tr>\n",
       "      <th>1</th>\n",
       "      <td>KNearest</td>\n",
       "      <td>0.948532</td>\n",
       "      <td>0.989616</td>\n",
       "      <td>0.906576</td>\n",
       "      <td>0.946278</td>\n",
       "      <td>Over Sampling</td>\n",
       "    </tr>\n",
       "    <tr>\n",
       "      <th>2</th>\n",
       "      <td>DecisionTreeClassifier</td>\n",
       "      <td>0.995583</td>\n",
       "      <td>0.991243</td>\n",
       "      <td>1.000000</td>\n",
       "      <td>0.995602</td>\n",
       "      <td>Over Sampling</td>\n",
       "    </tr>\n",
       "    <tr>\n",
       "      <th>3</th>\n",
       "      <td>Random Forest</td>\n",
       "      <td>0.995583</td>\n",
       "      <td>0.991243</td>\n",
       "      <td>1.000000</td>\n",
       "      <td>0.995602</td>\n",
       "      <td>Over Sampling</td>\n",
       "    </tr>\n",
       "  </tbody>\n",
       "</table>\n",
       "</div>"
      ],
      "text/plain": [
       "                    Model  Accuracy Score  Precision Score  Recall Score  \\\n",
       "0      LogisticRegression        0.704359         0.683868      0.760083   \n",
       "1                KNearest        0.948532         0.989616      0.906576   \n",
       "2  DecisionTreeClassifier        0.995583         0.991243      1.000000   \n",
       "3           Random Forest        0.995583         0.991243      1.000000   \n",
       "\n",
       "   F1 Score        Details  \n",
       "0  0.719964  Over Sampling  \n",
       "1  0.946278  Over Sampling  \n",
       "2  0.995602  Over Sampling  \n",
       "3  0.995602  Over Sampling  "
      ]
     },
     "execution_count": 24,
     "metadata": {},
     "output_type": "execute_result"
    }
   ],
   "source": [
    "over_sample = []\n",
    "for key, model in models.items():\n",
    "    model.fit(X_over, y_over)\n",
    "    y_pred = model.predict(X_over)\n",
    "    over_sample.append([key, accuracy_score(y_over, y_pred),precision_score(y_over, y_pred),recall_score(y_over, y_pred),f1_score(y_over, y_pred)])\n",
    "\n",
    "over_df = pd.DataFrame(over_sample, columns=['Model','Accuracy Score','Precision Score','Recall Score','F1 Score'])\n",
    "over_df['Details'] = ['Over Sampling','Over Sampling','Over Sampling','Over Sampling']\n",
    "over_df"
   ]
  },
  {
   "attachments": {},
   "cell_type": "markdown",
   "metadata": {},
   "source": [
    "<h3>7.3 SMOTE (Synthetic Minority Over-sampling Technique) </h3>\n",
    "\n",
    "Unlike random oversampling, SMOTE generates new synthetic instances of the minority class instead of duplicating existing instances."
   ]
  },
  {
   "cell_type": "code",
   "execution_count": 25,
   "metadata": {},
   "outputs": [
    {
     "data": {
      "text/plain": [
       "0.0    89881\n",
       "1.0    89881\n",
       "Name: target, dtype: int64"
      ]
     },
     "execution_count": 25,
     "metadata": {},
     "output_type": "execute_result"
    }
   ],
   "source": [
    "from imblearn.over_sampling import SMOTE\n",
    "\n",
    "smote = SMOTE(sampling_strategy='minority')\n",
    "\n",
    "X_smote, y_smote = smote.fit_resample(X_train, y_train)\n",
    "\n",
    "y_smote.value_counts()"
   ]
  },
  {
   "cell_type": "code",
   "execution_count": 26,
   "metadata": {},
   "outputs": [
    {
     "data": {
      "text/html": [
       "<div>\n",
       "<style scoped>\n",
       "    .dataframe tbody tr th:only-of-type {\n",
       "        vertical-align: middle;\n",
       "    }\n",
       "\n",
       "    .dataframe tbody tr th {\n",
       "        vertical-align: top;\n",
       "    }\n",
       "\n",
       "    .dataframe thead th {\n",
       "        text-align: right;\n",
       "    }\n",
       "</style>\n",
       "<table border=\"1\" class=\"dataframe\">\n",
       "  <thead>\n",
       "    <tr style=\"text-align: right;\">\n",
       "      <th></th>\n",
       "      <th>Model</th>\n",
       "      <th>Accuracy Score</th>\n",
       "      <th>Precision Score</th>\n",
       "      <th>Recall Score</th>\n",
       "      <th>F1 Score</th>\n",
       "      <th>Details</th>\n",
       "    </tr>\n",
       "  </thead>\n",
       "  <tbody>\n",
       "    <tr>\n",
       "      <th>0</th>\n",
       "      <td>LogisticRegression</td>\n",
       "      <td>0.721738</td>\n",
       "      <td>0.697499</td>\n",
       "      <td>0.783102</td>\n",
       "      <td>0.737826</td>\n",
       "      <td>SMOTE</td>\n",
       "    </tr>\n",
       "    <tr>\n",
       "      <th>1</th>\n",
       "      <td>KNearest</td>\n",
       "      <td>0.970700</td>\n",
       "      <td>0.970433</td>\n",
       "      <td>0.970984</td>\n",
       "      <td>0.970708</td>\n",
       "      <td>SMOTE</td>\n",
       "    </tr>\n",
       "    <tr>\n",
       "      <th>2</th>\n",
       "      <td>DecisionTreeClassifier</td>\n",
       "      <td>0.997257</td>\n",
       "      <td>0.995290</td>\n",
       "      <td>0.999243</td>\n",
       "      <td>0.997263</td>\n",
       "      <td>SMOTE</td>\n",
       "    </tr>\n",
       "    <tr>\n",
       "      <th>3</th>\n",
       "      <td>Random Forest</td>\n",
       "      <td>0.997257</td>\n",
       "      <td>0.995235</td>\n",
       "      <td>0.999299</td>\n",
       "      <td>0.997263</td>\n",
       "      <td>SMOTE</td>\n",
       "    </tr>\n",
       "  </tbody>\n",
       "</table>\n",
       "</div>"
      ],
      "text/plain": [
       "                    Model  Accuracy Score  Precision Score  Recall Score  \\\n",
       "0      LogisticRegression        0.721738         0.697499      0.783102   \n",
       "1                KNearest        0.970700         0.970433      0.970984   \n",
       "2  DecisionTreeClassifier        0.997257         0.995290      0.999243   \n",
       "3           Random Forest        0.997257         0.995235      0.999299   \n",
       "\n",
       "   F1 Score Details  \n",
       "0  0.737826   SMOTE  \n",
       "1  0.970708   SMOTE  \n",
       "2  0.997263   SMOTE  \n",
       "3  0.997263   SMOTE  "
      ]
     },
     "execution_count": 26,
     "metadata": {},
     "output_type": "execute_result"
    }
   ],
   "source": [
    "smote_sample = []\n",
    "for key, model in models.items():\n",
    "    model.fit(X_smote, y_smote)\n",
    "    y_pred = model.predict(X_smote)\n",
    "    smote_sample.append([key, accuracy_score(y_smote, y_pred),precision_score(y_smote, y_pred),recall_score(y_smote, y_pred),f1_score(y_smote, y_pred)])\n",
    "\n",
    "smote_df = pd.DataFrame(smote_sample, columns=['Model','Accuracy Score','Precision Score','Recall Score','F1 Score'])\n",
    "smote_df['Details'] = ['SMOTE','SMOTE','SMOTE','SMOTE']\n",
    "smote_df"
   ]
  },
  {
   "attachments": {},
   "cell_type": "markdown",
   "metadata": {},
   "source": [
    "<h3>7.4 SMOTETomek</h3>\n",
    "\n",
    "This approach aims to address class balancing by generating new synthetic instances of the minority class with SMOTE and then removing redundant or ambiguous instances using Tomek Links."
   ]
  },
  {
   "cell_type": "code",
   "execution_count": 27,
   "metadata": {},
   "outputs": [
    {
     "data": {
      "text/plain": [
       "0.0    89879\n",
       "1.0    89879\n",
       "Name: target, dtype: int64"
      ]
     },
     "execution_count": 27,
     "metadata": {},
     "output_type": "execute_result"
    }
   ],
   "source": [
    "from imblearn.combine import SMOTETomek\n",
    "\n",
    "smote_tomek = SMOTETomek(sampling_strategy='minority')\n",
    "\n",
    "X_smote_tomek, y_smote_tomek = smote_tomek.fit_resample(X_train, y_train)\n",
    "\n",
    "y_smote_tomek.value_counts()"
   ]
  },
  {
   "cell_type": "code",
   "execution_count": 28,
   "metadata": {},
   "outputs": [
    {
     "data": {
      "text/html": [
       "<div>\n",
       "<style scoped>\n",
       "    .dataframe tbody tr th:only-of-type {\n",
       "        vertical-align: middle;\n",
       "    }\n",
       "\n",
       "    .dataframe tbody tr th {\n",
       "        vertical-align: top;\n",
       "    }\n",
       "\n",
       "    .dataframe thead th {\n",
       "        text-align: right;\n",
       "    }\n",
       "</style>\n",
       "<table border=\"1\" class=\"dataframe\">\n",
       "  <thead>\n",
       "    <tr style=\"text-align: right;\">\n",
       "      <th></th>\n",
       "      <th>Model</th>\n",
       "      <th>Accuracy Score</th>\n",
       "      <th>Precision Score</th>\n",
       "      <th>Recall Score</th>\n",
       "      <th>F1 Score</th>\n",
       "      <th>Details</th>\n",
       "    </tr>\n",
       "  </thead>\n",
       "  <tbody>\n",
       "    <tr>\n",
       "      <th>0</th>\n",
       "      <td>LogisticRegression</td>\n",
       "      <td>0.723222</td>\n",
       "      <td>0.698463</td>\n",
       "      <td>0.785601</td>\n",
       "      <td>0.739474</td>\n",
       "      <td>SMOTETomek</td>\n",
       "    </tr>\n",
       "    <tr>\n",
       "      <th>1</th>\n",
       "      <td>KNearest</td>\n",
       "      <td>0.970249</td>\n",
       "      <td>0.970301</td>\n",
       "      <td>0.970193</td>\n",
       "      <td>0.970247</td>\n",
       "      <td>SMOTETomek</td>\n",
       "    </tr>\n",
       "    <tr>\n",
       "      <th>2</th>\n",
       "      <td>DecisionTreeClassifier</td>\n",
       "      <td>0.997246</td>\n",
       "      <td>0.995664</td>\n",
       "      <td>0.998843</td>\n",
       "      <td>0.997251</td>\n",
       "      <td>SMOTETomek</td>\n",
       "    </tr>\n",
       "    <tr>\n",
       "      <th>3</th>\n",
       "      <td>Random Forest</td>\n",
       "      <td>0.997246</td>\n",
       "      <td>0.995180</td>\n",
       "      <td>0.999332</td>\n",
       "      <td>0.997252</td>\n",
       "      <td>SMOTETomek</td>\n",
       "    </tr>\n",
       "  </tbody>\n",
       "</table>\n",
       "</div>"
      ],
      "text/plain": [
       "                    Model  Accuracy Score  Precision Score  Recall Score  \\\n",
       "0      LogisticRegression        0.723222         0.698463      0.785601   \n",
       "1                KNearest        0.970249         0.970301      0.970193   \n",
       "2  DecisionTreeClassifier        0.997246         0.995664      0.998843   \n",
       "3           Random Forest        0.997246         0.995180      0.999332   \n",
       "\n",
       "   F1 Score     Details  \n",
       "0  0.739474  SMOTETomek  \n",
       "1  0.970247  SMOTETomek  \n",
       "2  0.997251  SMOTETomek  \n",
       "3  0.997252  SMOTETomek  "
      ]
     },
     "execution_count": 28,
     "metadata": {},
     "output_type": "execute_result"
    }
   ],
   "source": [
    "smote_tomek_sample = []\n",
    "for key, model in models.items():\n",
    "    model.fit(X_smote_tomek, y_smote_tomek)\n",
    "    y_pred = model.predict(X_smote_tomek)\n",
    "    smote_tomek_sample.append([key, accuracy_score(y_smote_tomek, y_pred),precision_score(y_smote_tomek, y_pred),recall_score(y_smote_tomek, y_pred),f1_score(y_smote_tomek, y_pred)])\n",
    "\n",
    "smote_tomek_df = pd.DataFrame(smote_tomek_sample, columns=['Model','Accuracy Score','Precision Score','Recall Score','F1 Score'])\n",
    "smote_tomek_df['Details'] = ['SMOTETomek','SMOTETomek','SMOTETomek','SMOTETomek']\n",
    "smote_tomek_df"
   ]
  },
  {
   "attachments": {},
   "cell_type": "markdown",
   "metadata": {},
   "source": [
    "<h3>8. Evaluation Table 🧮</h3>\n",
    "\n",
    "Looking into the evaluation table, Random Forest (SMOTE) is the best model.\n"
   ]
  },
  {
   "cell_type": "code",
   "execution_count": 29,
   "metadata": {},
   "outputs": [
    {
     "data": {
      "text/html": [
       "<div>\n",
       "<style scoped>\n",
       "    .dataframe tbody tr th:only-of-type {\n",
       "        vertical-align: middle;\n",
       "    }\n",
       "\n",
       "    .dataframe tbody tr th {\n",
       "        vertical-align: top;\n",
       "    }\n",
       "\n",
       "    .dataframe thead th {\n",
       "        text-align: right;\n",
       "    }\n",
       "</style>\n",
       "<table border=\"1\" class=\"dataframe\">\n",
       "  <thead>\n",
       "    <tr style=\"text-align: right;\">\n",
       "      <th></th>\n",
       "      <th>Model</th>\n",
       "      <th>Accuracy Score</th>\n",
       "      <th>Precision Score</th>\n",
       "      <th>Recall Score</th>\n",
       "      <th>F1 Score</th>\n",
       "      <th>Details</th>\n",
       "    </tr>\n",
       "  </thead>\n",
       "  <tbody>\n",
       "    <tr>\n",
       "      <th>15</th>\n",
       "      <td>Random Forest</td>\n",
       "      <td>0.997257</td>\n",
       "      <td>0.995235</td>\n",
       "      <td>0.999299</td>\n",
       "      <td>0.997263</td>\n",
       "      <td>SMOTE</td>\n",
       "    </tr>\n",
       "    <tr>\n",
       "      <th>14</th>\n",
       "      <td>DecisionTreeClassifier</td>\n",
       "      <td>0.997257</td>\n",
       "      <td>0.995290</td>\n",
       "      <td>0.999243</td>\n",
       "      <td>0.997263</td>\n",
       "      <td>SMOTE</td>\n",
       "    </tr>\n",
       "    <tr>\n",
       "      <th>19</th>\n",
       "      <td>Random Forest</td>\n",
       "      <td>0.997246</td>\n",
       "      <td>0.995180</td>\n",
       "      <td>0.999332</td>\n",
       "      <td>0.997252</td>\n",
       "      <td>SMOTETomek</td>\n",
       "    </tr>\n",
       "  </tbody>\n",
       "</table>\n",
       "</div>"
      ],
      "text/plain": [
       "                     Model  Accuracy Score  Precision Score  Recall Score  \\\n",
       "15           Random Forest        0.997257         0.995235      0.999299   \n",
       "14  DecisionTreeClassifier        0.997257         0.995290      0.999243   \n",
       "19           Random Forest        0.997246         0.995180      0.999332   \n",
       "\n",
       "    F1 Score     Details  \n",
       "15  0.997263       SMOTE  \n",
       "14  0.997263       SMOTE  \n",
       "19  0.997252  SMOTETomek  "
      ]
     },
     "execution_count": 29,
     "metadata": {},
     "output_type": "execute_result"
    }
   ],
   "source": [
    "final_df = pd.concat([df,under_df, over_df, smote_df, smote_tomek_df], ignore_index=True) # Concatenating all the dataframes\n",
    "final_df.sort_values(by='F1 Score', ascending=False).head(3)"
   ]
  },
  {
   "attachments": {},
   "cell_type": "markdown",
   "metadata": {},
   "source": [
    "<h3>9. Tunning the best model with RandomizedSearchCV 🚀</h3>\n",
    "\n",
    "<strong>RandomizedSearchCV</strong> is a function of the scikit-learn package that performs a random search for the best hyperparameters of a machine learning model.<br> In contrast to GridSearchCV, not all parameter values are tried out, but rather a fixed number of parameter settings is sampled from the specified distributions. "
   ]
  },
  {
   "cell_type": "code",
   "execution_count": 30,
   "metadata": {},
   "outputs": [],
   "source": [
    "n_estimators = [100, 200, 300]# Number of trees in random forest\n",
    "max_features = [\"sqrt\", \"log2\"] # Number of features to consider at every split\n",
    "max_depth = [None, 5, 10, 20] # Maximum number of levels in tree\n",
    "min_samples_split = [2, 5, 10]\n",
    "min_samples_leaf = [1, 2, 4] # Weights associated with classes\n",
    "\n",
    "\n",
    "\n",
    "random_grid = {'n_estimators': n_estimators,\n",
    "                'max_features': max_features,\n",
    "                'max_depth': max_depth,\n",
    "                'min_samples_split': min_samples_split,\n",
    "                'min_samples_leaf': min_samples_leaf}"
   ]
  },
  {
   "attachments": {},
   "cell_type": "markdown",
   "metadata": {},
   "source": [
    "<h3>9.1 Random Forest + SMOTE + RandomizedSearchCV</h3>"
   ]
  },
  {
   "cell_type": "code",
   "execution_count": 31,
   "metadata": {},
   "outputs": [],
   "source": [
    "X_train_array, y_train_array = np.array(X_train), np.array(y_train)\n",
    "X_test_array, y_test_array = np.array(X_test), np.array(y_test)"
   ]
  },
  {
   "cell_type": "code",
   "execution_count": 32,
   "metadata": {},
   "outputs": [
    {
     "name": "stdout",
     "output_type": "stream",
     "text": [
      "Fitting 5 folds for each of 30 candidates, totalling 150 fits\n",
      "------------------------------------------------------------\n",
      "Best estimators for RF: {'n_estimators': 100, 'min_samples_split': 2, 'min_samples_leaf': 1, 'max_features': 'sqrt', 'max_depth': None}\n",
      "------------------------------------------------------------\n",
      "Results on Train Set\n",
      "accuracy:  0.9949471598414795\n",
      "precision: 0.6838235294117647\n",
      "recall:    0.9697601668404588\n",
      "f1:        0.8020698576972833\n",
      "auc:       0.9824880317074091\n",
      "------------------------------------------------------------\n"
     ]
    }
   ],
   "source": [
    "from sklearn.model_selection import RandomizedSearchCV\n",
    "from imblearn.pipeline import make_pipeline\n",
    "from sklearn.metrics import roc_auc_score\n",
    "\n",
    "rf_grid = RandomizedSearchCV(RandomForestClassifier(), random_grid, random_state=seed, n_iter=30, verbose=2, n_jobs=-1)\n",
    "\n",
    "pipeline_rf = make_pipeline(SMOTE(sampling_strategy='minority'), rf_grid) # pipeline with SMOTE + Random Forest params\n",
    "\n",
    "pipeline_rf.fit(X_train_array, y_train_array) \n",
    "\n",
    "best_est_rf = pipeline_rf.named_steps['randomizedsearchcv'].best_estimator_ \n",
    "\n",
    "prediction_rf = best_est_rf.predict(X_train_array)  \n",
    "\n",
    "accuracy_rf = pipeline_rf.score(X_train_array, y_train_array)\n",
    "precision_rf = precision_score(y_train_array, prediction_rf)\n",
    "recall_rf = recall_score(y_train_array, prediction_rf)\n",
    "f1_rf = f1_score(y_train_array, prediction_rf)\n",
    "auc_rf = roc_auc_score(y_train_array, prediction_rf)\n",
    "\n",
    "print('---' * 20)\n",
    "print(f\"Best estimators for RF: {pipeline_rf.named_steps['randomizedsearchcv'].best_params_}\")\n",
    "print('---' * 20)\n",
    "print('Results on Train Set')\n",
    "print(f\"accuracy:  {accuracy_rf}\")\n",
    "print(f\"precision: {precision_rf}\")\n",
    "print(f\"recall:    {recall_rf}\")\n",
    "print(f\"f1:        {f1_rf}\")\n",
    "print(f\"auc:       {auc_rf}\")\n",
    "print('---' * 20)"
   ]
  },
  {
   "attachments": {},
   "cell_type": "markdown",
   "metadata": {},
   "source": [
    "<h3>10. Final Model</h3>\n",
    "<ul>\n",
    "  <li>SMOTE Models 📈</li>\n",
    "    <ol>\n",
    "      <li>Default Model 🤖</li>\n",
    "      <li>Tuned Model 🚀</li>\n",
    "    </ol>\n",
    "</ul>"
   ]
  },
  {
   "attachments": {},
   "cell_type": "markdown",
   "metadata": {},
   "source": [
    "<h4>10.1  Default Model 🤖</h4>"
   ]
  },
  {
   "cell_type": "code",
   "execution_count": 33,
   "metadata": {},
   "outputs": [
    {
     "name": "stdout",
     "output_type": "stream",
     "text": [
      "=== Training Results ===\n",
      "accuracy:  0.9952994275649494\n",
      "precision: 0.7\n",
      "recall:    0.9708029197080292\n",
      "f1:        0.8134556574923548\n",
      "auc:       0.9831818583809557\n",
      "\n",
      "\n",
      "=== Test Results ===\n",
      "accuracy:  0.9903126376045794\n",
      "precision: 0.5331125827814569\n",
      "recall:    0.6708333333333333\n",
      "f1:        0.5940959409594094\n",
      "auc:       0.8322791499777482\n"
     ]
    }
   ],
   "source": [
    "default_rf = make_pipeline(SMOTE(sampling_strategy='minority'), RandomForestClassifier()) # SMOTE + Random Forest\n",
    "\n",
    "default_model = default_rf.fit(X_train_array, y_train_array)\n",
    "y_pred_train = default_model.predict(X_train_array) # prediction with the model trained with the training dataset\n",
    "\n",
    "print(\"=== Training Results ===\")\n",
    "print(f\"accuracy:  {accuracy_score(y_train_array, y_pred_train)}\")\n",
    "print(f\"precision: {precision_score(y_train_array, y_pred_train)}\")\n",
    "print(f\"recall:    {recall_score(y_train_array, y_pred_train)}\")\n",
    "print(f\"f1:        {f1_score(y_train_array, y_pred_train)}\")\n",
    "print(f'auc:       {roc_auc_score(y_train_array, y_pred_train)}')\n",
    "print('\\n')\n",
    "\n",
    "y_pred_test_default = default_model.predict(X_test) # prediction with the model trained with the test dataset\n",
    "\n",
    "print(\"=== Test Results ===\")\n",
    "print(f\"accuracy:  {accuracy_score(y_test, y_pred_test_default)}\")\n",
    "print(f\"precision: {precision_score(y_test, y_pred_test_default)}\")\n",
    "print(f\"recall:    {recall_score(y_test, y_pred_test_default)}\")\n",
    "print(f\"f1:        {f1_score(y_test, y_pred_test_default)}\")\n",
    "print(f'auc:       {roc_auc_score(y_test, y_pred_test_default)}')"
   ]
  },
  {
   "cell_type": "code",
   "execution_count": 34,
   "metadata": {},
   "outputs": [
    {
     "data": {
      "image/png": "[encoded data removed]",
      "text/plain": [
       "<Figure size 360x360 with 1 Axes>"
      ]
     },
     "metadata": {
      "needs_background": "light"
     },
     "output_type": "display_data"
    }
   ],
   "source": [
    "from sklearn.metrics import confusion_matrix\n",
    "\n",
    "# confusion matrix for the test dataset (default model)\n",
    "plt.figure(figsize=(5,5))\n",
    "sns.heatmap(confusion_matrix(y_test, y_pred_test_default), annot=True, cmap='viridis', fmt='g', cbar=False)\n",
    "plt.title(\"Confusion Matrix\", fontsize=16, fontweight='bold')\n",
    "plt.show()"
   ]
  },
  {
   "attachments": {},
   "cell_type": "markdown",
   "metadata": {},
   "source": [
    "<h3>10.2 Tuned Model 🚀</h3>"
   ]
  },
  {
   "cell_type": "code",
   "execution_count": 35,
   "metadata": {},
   "outputs": [
    {
     "name": "stdout",
     "output_type": "stream",
     "text": [
      "=== Training Results ===\n",
      "accuracy:  0.9949471598414795\n",
      "precision: 0.6838235294117647\n",
      "recall:    0.9697601668404588\n",
      "f1:        0.8020698576972833\n",
      "auc:       0.9824880317074091\n",
      "\n",
      "\n",
      "=== Test Results ===\n",
      "accuracy:  0.9901365037428446\n",
      "precision: 0.5264900662251656\n",
      "recall:    0.6625\n",
      "f1:        0.5867158671586716\n",
      "auc:       0.82806797952826\n"
     ]
    }
   ],
   "source": [
    "final_params = rf_grid.best_estimator_\n",
    "\n",
    "pipe_final = make_pipeline(SMOTE(sampling_strategy='minority'), final_params) # SMOTE + Random Forest\n",
    "final_model = pipe_final.fit(X_train_array, y_train_array)\n",
    "\n",
    "y_pred_train = final_model.predict(X_train_array) # prediction with the model trained with the training dataset\n",
    "\n",
    "\n",
    "print(\"=== Training Results ===\")\n",
    "print(f\"accuracy:  {accuracy_score(y_train_array, y_pred_train)}\")\n",
    "print(f\"precision: {precision_score(y_train_array, y_pred_train)}\")\n",
    "print(f\"recall:    {recall_score(y_train_array, y_pred_train)}\")\n",
    "print(f\"f1:        {f1_score(y_train_array, y_pred_train)}\")\n",
    "print(f'auc:       {roc_auc_score(y_train_array, y_pred_train)}')\n",
    "print('\\n')\n",
    "\n",
    "y_pred_test_final = final_model.predict(X_test) # prediction with the model trained with the test dataset\n",
    "\n",
    "\n",
    "print(\"=== Test Results ===\")\n",
    "print(f\"accuracy:  {accuracy_score(y_test, y_pred_test_final)}\")\n",
    "print(f\"precision: {precision_score(y_test, y_pred_test_final)}\")\n",
    "print(f\"recall:    {recall_score(y_test, y_pred_test_final)}\")\n",
    "print(f\"f1:        {f1_score(y_test, y_pred_test_final)}\")\n",
    "print(f'auc:       {roc_auc_score(y_test, y_pred_test_final)}')"
   ]
  },
  {
   "cell_type": "code",
   "execution_count": 36,
   "metadata": {},
   "outputs": [
    {
     "data": {
      "image/png": "[encoded data removed]",
      "text/plain": [
       "<Figure size 360x360 with 1 Axes>"
      ]
     },
     "metadata": {
      "needs_background": "light"
     },
     "output_type": "display_data"
    }
   ],
   "source": [
    "# confusion matrix for the final model (test dataset)\n",
    "plt.figure(figsize=(5,5))\n",
    "sns.heatmap(confusion_matrix(y_test,y_pred_test_final), annot=True, cmap='viridis', fmt='g', cbar=False)\n",
    "plt.title(\"Confusion Matrix\", fontsize=16, fontweight='bold')\n",
    "plt.show()\n"
   ]
  }
 ],
 "metadata": {
  "kernelspec": {
   "display_name": "Python 3",
   "language": "python",
   "name": "python3"
  },
  "language_info": {
   "codemirror_mode": {
    "name": "ipython",
    "version": 3
   },
   "file_extension": ".py",
   "mimetype": "text/x-python",
   "name": "python",
   "nbconvert_exporter": "python",
   "pygments_lexer": "ipython3",
   "version": "3.10.4"
  },
  "orig_nbformat": 4
 },
 "nbformat": 4,
 "nbformat_minor": 2
}
